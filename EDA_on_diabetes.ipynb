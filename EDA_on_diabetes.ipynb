{
  "metadata": {
    "kernelspec": {
      "language": "python",
      "display_name": "Python 3",
      "name": "python3"
    },
    "language_info": {
      "name": "python",
      "version": "3.10.13",
      "mimetype": "text/x-python",
      "codemirror_mode": {
        "name": "ipython",
        "version": 3
      },
      "pygments_lexer": "ipython3",
      "nbconvert_exporter": "python",
      "file_extension": ".py"
    },
    "kaggle": {
      "accelerator": "none",
      "dataSources": [
        {
          "sourceId": 482,
          "sourceType": "datasetVersion",
          "datasetId": 228
        }
      ],
      "dockerImageVersionId": 30664,
      "isInternetEnabled": true,
      "language": "python",
      "sourceType": "notebook",
      "isGpuEnabled": false
    },
    "colab": {
      "name": "EDA on diabetes",
      "provenance": [],
      "include_colab_link": true
    }
  },
  "nbformat_minor": 0,
  "nbformat": 4,
  "cells": [
    {
      "cell_type": "markdown",
      "metadata": {
        "id": "view-in-github",
        "colab_type": "text"
      },
      "source": [
        "<a href=\"https://colab.research.google.com/github/avi78/ml-projects/blob/main/EDA_on_diabetes.ipynb\" target=\"_parent\"><img src=\"https://colab.research.google.com/assets/colab-badge.svg\" alt=\"Open In Colab\"/></a>"
      ]
    },
    {
      "source": [
        "\n",
        "# IMPORTANT: RUN THIS CELL IN ORDER TO IMPORT YOUR KAGGLE DATA SOURCES\n",
        "# TO THE CORRECT LOCATION (/kaggle/input) IN YOUR NOTEBOOK,\n",
        "# THEN FEEL FREE TO DELETE THIS CELL.\n",
        "# NOTE: THIS NOTEBOOK ENVIRONMENT DIFFERS FROM KAGGLE'S PYTHON\n",
        "# ENVIRONMENT SO THERE MAY BE MISSING LIBRARIES USED BY YOUR\n",
        "# NOTEBOOK.\n",
        "\n",
        "import os\n",
        "import sys\n",
        "from tempfile import NamedTemporaryFile\n",
        "from urllib.request import urlopen\n",
        "from urllib.parse import unquote, urlparse\n",
        "from urllib.error import HTTPError\n",
        "from zipfile import ZipFile\n",
        "import tarfile\n",
        "import shutil\n",
        "\n",
        "CHUNK_SIZE = 40960\n",
        "DATA_SOURCE_MAPPING = 'pima-indians-diabetes-database:https%3A%2F%2Fstorage.googleapis.com%2Fkaggle-data-sets%2F228%2F482%2Fbundle%2Farchive.zip%3FX-Goog-Algorithm%3DGOOG4-RSA-SHA256%26X-Goog-Credential%3Dgcp-kaggle-com%2540kaggle-161607.iam.gserviceaccount.com%252F20240318%252Fauto%252Fstorage%252Fgoog4_request%26X-Goog-Date%3D20240318T153912Z%26X-Goog-Expires%3D259200%26X-Goog-SignedHeaders%3Dhost%26X-Goog-Signature%3D23a514d89ba73e231ecd4af223a6e4d6261bb1ab94064a0b107affc0d4670e690cf4b738e9087ae69402315e5942d463757f3fac122a751d40665c4a0db1cd83b96222ee3ce2445051c73fdd5f5fe03673494d41f2e807273e6cb433486711cf4de3009555bb3dd7cd86d7f961f431ffa7dfc30aa092f9f7c6327f99e452a10d76141d691da1beb30c430e464cf91d6fe468aaf04ad637aba41207909baa9d2d5e320125d0e90b8a0e6bbc33cb830e18a632ff8848efc145977652260e568a7e2b28a2a95545ead94958411e8ef99033de6651e1c66f3aa4590624c61bb04694b924c2be3dc292b7bfdd293cf547d566e7fc831b713f709a019ed139594c8ade'\n",
        "\n",
        "KAGGLE_INPUT_PATH='/kaggle/input'\n",
        "KAGGLE_WORKING_PATH='/kaggle/working'\n",
        "KAGGLE_SYMLINK='kaggle'\n",
        "\n",
        "!umount /kaggle/input/ 2> /dev/null\n",
        "shutil.rmtree('/kaggle/input', ignore_errors=True)\n",
        "os.makedirs(KAGGLE_INPUT_PATH, 0o777, exist_ok=True)\n",
        "os.makedirs(KAGGLE_WORKING_PATH, 0o777, exist_ok=True)\n",
        "\n",
        "try:\n",
        "  os.symlink(KAGGLE_INPUT_PATH, os.path.join(\"..\", 'input'), target_is_directory=True)\n",
        "except FileExistsError:\n",
        "  pass\n",
        "try:\n",
        "  os.symlink(KAGGLE_WORKING_PATH, os.path.join(\"..\", 'working'), target_is_directory=True)\n",
        "except FileExistsError:\n",
        "  pass\n",
        "\n",
        "for data_source_mapping in DATA_SOURCE_MAPPING.split(','):\n",
        "    directory, download_url_encoded = data_source_mapping.split(':')\n",
        "    download_url = unquote(download_url_encoded)\n",
        "    filename = urlparse(download_url).path\n",
        "    destination_path = os.path.join(KAGGLE_INPUT_PATH, directory)\n",
        "    try:\n",
        "        with urlopen(download_url) as fileres, NamedTemporaryFile() as tfile:\n",
        "            total_length = fileres.headers['content-length']\n",
        "            print(f'Downloading {directory}, {total_length} bytes compressed')\n",
        "            dl = 0\n",
        "            data = fileres.read(CHUNK_SIZE)\n",
        "            while len(data) > 0:\n",
        "                dl += len(data)\n",
        "                tfile.write(data)\n",
        "                done = int(50 * dl / int(total_length))\n",
        "                sys.stdout.write(f\"\\r[{'=' * done}{' ' * (50-done)}] {dl} bytes downloaded\")\n",
        "                sys.stdout.flush()\n",
        "                data = fileres.read(CHUNK_SIZE)\n",
        "            if filename.endswith('.zip'):\n",
        "              with ZipFile(tfile) as zfile:\n",
        "                zfile.extractall(destination_path)\n",
        "            else:\n",
        "              with tarfile.open(tfile.name) as tarfile:\n",
        "                tarfile.extractall(destination_path)\n",
        "            print(f'\\nDownloaded and uncompressed: {directory}')\n",
        "    except HTTPError as e:\n",
        "        print(f'Failed to load (likely expired) {download_url} to path {destination_path}')\n",
        "        continue\n",
        "    except OSError as e:\n",
        "        print(f'Failed to load {download_url} to path {destination_path}')\n",
        "        continue\n",
        "\n",
        "print('Data source import complete.')\n"
      ],
      "metadata": {
        "id": "-0Yvyt1FN6NI"
      },
      "cell_type": "code",
      "outputs": [],
      "execution_count": null
    },
    {
      "cell_type": "code",
      "source": [
        "import pandas as pd\n",
        "import numpy as np\n",
        "import matplotlib.pyplot as plt\n",
        "import seaborn as sns"
      ],
      "metadata": {
        "_uuid": "8f2839f25d086af736a60e9eeb907d3b93b6e0e5",
        "_cell_guid": "b1076dfc-b9ad-4769-8c92-a6c4dae69d19",
        "execution": {
          "iopub.status.busy": "2024-03-18T14:23:06.721553Z",
          "iopub.execute_input": "2024-03-18T14:23:06.722135Z",
          "iopub.status.idle": "2024-03-18T14:23:10.08638Z",
          "shell.execute_reply.started": "2024-03-18T14:23:06.722095Z",
          "shell.execute_reply": "2024-03-18T14:23:10.085076Z"
        },
        "trusted": true,
        "id": "MBi66aU9N6NO"
      },
      "execution_count": null,
      "outputs": []
    },
    {
      "cell_type": "code",
      "source": [
        "data = pd.read_csv(\"/kaggle/input/pima-indians-diabetes-database/diabetes.csv\")"
      ],
      "metadata": {
        "execution": {
          "iopub.status.busy": "2024-03-18T14:23:10.088797Z",
          "iopub.execute_input": "2024-03-18T14:23:10.089868Z",
          "iopub.status.idle": "2024-03-18T14:23:10.11918Z",
          "shell.execute_reply.started": "2024-03-18T14:23:10.089822Z",
          "shell.execute_reply": "2024-03-18T14:23:10.117688Z"
        },
        "trusted": true,
        "id": "giR6a19qN6NP"
      },
      "execution_count": null,
      "outputs": []
    },
    {
      "cell_type": "code",
      "source": [
        "data.head()"
      ],
      "metadata": {
        "execution": {
          "iopub.status.busy": "2024-03-18T14:32:56.655046Z",
          "iopub.execute_input": "2024-03-18T14:32:56.655936Z",
          "iopub.status.idle": "2024-03-18T14:32:56.684012Z",
          "shell.execute_reply.started": "2024-03-18T14:32:56.6559Z",
          "shell.execute_reply": "2024-03-18T14:32:56.682691Z"
        },
        "trusted": true,
        "id": "uGTd2Fb_N6NP"
      },
      "execution_count": null,
      "outputs": []
    },
    {
      "cell_type": "code",
      "source": [
        "data.describe()"
      ],
      "metadata": {
        "execution": {
          "iopub.status.busy": "2024-03-18T14:33:13.569385Z",
          "iopub.execute_input": "2024-03-18T14:33:13.569891Z",
          "iopub.status.idle": "2024-03-18T14:33:13.632209Z",
          "shell.execute_reply.started": "2024-03-18T14:33:13.569849Z",
          "shell.execute_reply": "2024-03-18T14:33:13.630638Z"
        },
        "trusted": true,
        "id": "5HL6RSrQN6NQ"
      },
      "execution_count": null,
      "outputs": []
    },
    {
      "cell_type": "code",
      "source": [
        "data.info()"
      ],
      "metadata": {
        "execution": {
          "iopub.status.busy": "2024-03-18T14:33:26.37717Z",
          "iopub.execute_input": "2024-03-18T14:33:26.377663Z",
          "iopub.status.idle": "2024-03-18T14:33:26.417109Z",
          "shell.execute_reply.started": "2024-03-18T14:33:26.377625Z",
          "shell.execute_reply": "2024-03-18T14:33:26.415891Z"
        },
        "trusted": true,
        "id": "ywg4WpWiN6NR"
      },
      "execution_count": null,
      "outputs": []
    },
    {
      "cell_type": "markdown",
      "source": [
        "**Checking Null Values**"
      ],
      "metadata": {
        "id": "eok7Ve4lN6NS"
      }
    },
    {
      "cell_type": "code",
      "source": [
        "data.isna().sum()"
      ],
      "metadata": {
        "execution": {
          "iopub.status.busy": "2024-03-18T14:33:52.067475Z",
          "iopub.execute_input": "2024-03-18T14:33:52.067888Z",
          "iopub.status.idle": "2024-03-18T14:33:52.080601Z",
          "shell.execute_reply.started": "2024-03-18T14:33:52.067857Z",
          "shell.execute_reply": "2024-03-18T14:33:52.07921Z"
        },
        "trusted": true,
        "id": "ZCAWGRT7N6NV"
      },
      "execution_count": null,
      "outputs": []
    },
    {
      "cell_type": "code",
      "source": [
        "data.duplicated().sum()"
      ],
      "metadata": {
        "execution": {
          "iopub.status.busy": "2024-03-18T14:42:18.005224Z",
          "iopub.execute_input": "2024-03-18T14:42:18.005673Z",
          "iopub.status.idle": "2024-03-18T14:42:18.019615Z",
          "shell.execute_reply.started": "2024-03-18T14:42:18.005637Z",
          "shell.execute_reply": "2024-03-18T14:42:18.018118Z"
        },
        "trusted": true,
        "id": "5q_wQbXdN6NW"
      },
      "execution_count": null,
      "outputs": []
    },
    {
      "cell_type": "markdown",
      "source": [
        "# Data Visualization"
      ],
      "metadata": {
        "id": "YOHFRD7zN6NX"
      }
    },
    {
      "cell_type": "code",
      "source": [
        "plt.figure(figsize = (12,6))\n",
        "sns.countplot(x='Outcome',data=data)\n",
        "plt.show()"
      ],
      "metadata": {
        "execution": {
          "iopub.status.busy": "2024-03-18T14:44:48.985044Z",
          "iopub.execute_input": "2024-03-18T14:44:48.985547Z",
          "iopub.status.idle": "2024-03-18T14:44:49.293443Z",
          "shell.execute_reply.started": "2024-03-18T14:44:48.985508Z",
          "shell.execute_reply": "2024-03-18T14:44:49.291793Z"
        },
        "trusted": true,
        "id": "UuIjV1GfN6NY"
      },
      "execution_count": null,
      "outputs": []
    },
    {
      "cell_type": "code",
      "source": [
        "plt.figure(figsize = (12,12))\n",
        "for i, col in enumerate(['Pregnancies','Glucose','BloodPressure','SkinThickness','Insulin','BMI','DiabetesPedigreeFunction','Age']):\n",
        "    plt.subplot(3,3,i+1)\n",
        "    sns.boxplot(x=col,data=data)\n",
        "plt.show()"
      ],
      "metadata": {
        "execution": {
          "iopub.status.busy": "2024-03-18T15:04:19.565972Z",
          "iopub.execute_input": "2024-03-18T15:04:19.566362Z",
          "iopub.status.idle": "2024-03-18T15:04:20.550246Z",
          "shell.execute_reply.started": "2024-03-18T15:04:19.566329Z",
          "shell.execute_reply": "2024-03-18T15:04:20.549092Z"
        },
        "trusted": true,
        "id": "zY5bqnX8N6NZ"
      },
      "execution_count": null,
      "outputs": []
    },
    {
      "cell_type": "code",
      "source": [
        "sns.pairplot(data,hue='Outcome')\n",
        "plt.show()"
      ],
      "metadata": {
        "execution": {
          "iopub.status.busy": "2024-03-18T15:10:21.334262Z",
          "iopub.execute_input": "2024-03-18T15:10:21.33471Z",
          "iopub.status.idle": "2024-03-18T15:10:52.42157Z",
          "shell.execute_reply.started": "2024-03-18T15:10:21.334676Z",
          "shell.execute_reply": "2024-03-18T15:10:52.418263Z"
        },
        "trusted": true,
        "id": "AX4K1j8kN6Na"
      },
      "execution_count": null,
      "outputs": []
    },
    {
      "cell_type": "code",
      "source": [
        "plt.figure(figsize=(12,12))\n",
        "for i, col in enumerate(['Pregnancies','Glucose','BloodPressure','SkinThickness','Insulin','BMI','DiabetesPedigreeFunction','Age']):\n",
        "    plt.subplot(3,3,i+1)\n",
        "    sns.histplot(x=col,data=data,kde=True)\n",
        "plt.show()"
      ],
      "metadata": {
        "execution": {
          "iopub.status.busy": "2024-03-18T15:09:16.656717Z",
          "iopub.execute_input": "2024-03-18T15:09:16.657227Z",
          "iopub.status.idle": "2024-03-18T15:09:19.085056Z",
          "shell.execute_reply.started": "2024-03-18T15:09:16.65719Z",
          "shell.execute_reply": "2024-03-18T15:09:19.083663Z"
        },
        "trusted": true,
        "id": "zX1J-bo3N6Na"
      },
      "execution_count": null,
      "outputs": []
    },
    {
      "cell_type": "code",
      "source": [
        "plt.figure(figsize = (12,12))\n",
        "sns.heatmap(data.corr(),vmin=-1.0,center = 0,cmap='RdBu_r',annot = True)\n",
        "plt.show()"
      ],
      "metadata": {
        "execution": {
          "iopub.status.busy": "2024-03-18T15:12:54.456171Z",
          "iopub.execute_input": "2024-03-18T15:12:54.456551Z",
          "iopub.status.idle": "2024-03-18T15:12:55.158787Z",
          "shell.execute_reply.started": "2024-03-18T15:12:54.456523Z",
          "shell.execute_reply": "2024-03-18T15:12:55.157704Z"
        },
        "trusted": true,
        "id": "Z2lWZ2ION6Nb"
      },
      "execution_count": null,
      "outputs": []
    },
    {
      "cell_type": "markdown",
      "source": [
        "**Standard Scaling and Label Encoding**"
      ],
      "metadata": {
        "id": "LCc5PbsoN6Nb"
      }
    },
    {
      "cell_type": "code",
      "source": [
        "from sklearn.preprocessing import StandardScaler\n",
        "sc_X = StandardScaler()\n",
        "X = pd.DataFrame(sc_X.fit_transform(data.drop([\"Outcome\"],axis=1),),\n",
        "                columns=['Pregnancies','Glucose','BloodPressure','SkinThickness','Insulin','BMI','DiabetesPedigreeFunction','Age'])"
      ],
      "metadata": {
        "execution": {
          "iopub.status.busy": "2024-03-18T15:17:06.559861Z",
          "iopub.execute_input": "2024-03-18T15:17:06.560344Z",
          "iopub.status.idle": "2024-03-18T15:17:06.577533Z",
          "shell.execute_reply.started": "2024-03-18T15:17:06.560312Z",
          "shell.execute_reply": "2024-03-18T15:17:06.576053Z"
        },
        "trusted": true,
        "id": "9DS55OeXN6Nb"
      },
      "execution_count": null,
      "outputs": []
    },
    {
      "cell_type": "code",
      "source": [
        "X.head()"
      ],
      "metadata": {
        "execution": {
          "iopub.status.busy": "2024-03-18T15:17:20.341886Z",
          "iopub.execute_input": "2024-03-18T15:17:20.342422Z",
          "iopub.status.idle": "2024-03-18T15:17:20.365005Z",
          "shell.execute_reply.started": "2024-03-18T15:17:20.342365Z",
          "shell.execute_reply": "2024-03-18T15:17:20.363772Z"
        },
        "trusted": true,
        "id": "SmlzqhwTN6Nc"
      },
      "execution_count": null,
      "outputs": []
    },
    {
      "cell_type": "code",
      "source": [
        "y = data['Outcome']"
      ],
      "metadata": {
        "execution": {
          "iopub.status.busy": "2024-03-18T15:17:37.955181Z",
          "iopub.execute_input": "2024-03-18T15:17:37.955654Z",
          "iopub.status.idle": "2024-03-18T15:17:37.964102Z",
          "shell.execute_reply.started": "2024-03-18T15:17:37.95562Z",
          "shell.execute_reply": "2024-03-18T15:17:37.962656Z"
        },
        "trusted": true,
        "id": "U4bT6YbxN6Nc"
      },
      "execution_count": null,
      "outputs": []
    },
    {
      "cell_type": "code",
      "source": [
        "from sklearn.model_selection import train_test_split\n",
        "X_train,X_test,y_train,y_test = train_test_split(X,y,test_size=0.3,random_state=0)"
      ],
      "metadata": {
        "execution": {
          "iopub.status.busy": "2024-03-18T15:19:13.879092Z",
          "iopub.execute_input": "2024-03-18T15:19:13.879495Z",
          "iopub.status.idle": "2024-03-18T15:19:14.016708Z",
          "shell.execute_reply.started": "2024-03-18T15:19:13.879465Z",
          "shell.execute_reply": "2024-03-18T15:19:14.015452Z"
        },
        "trusted": true,
        "id": "zMC1ku4PN6Nc"
      },
      "execution_count": null,
      "outputs": []
    },
    {
      "cell_type": "code",
      "source": [
        "from sklearn.neighbors import KNeighborsClassifier\n",
        "\n",
        "test_scores = []\n",
        "train_scores = []\n",
        "\n",
        "for i in range(1,15):\n",
        "    knn = KNeighborsClassifier(i)\n",
        "    knn.fit(X_train,y_train)\n",
        "\n",
        "    train_scores.append(knn.score(X_train, y_train))\n",
        "    test_scores.append(knn.score(X_test,y_test))"
      ],
      "metadata": {
        "execution": {
          "iopub.status.busy": "2024-03-18T15:22:04.545241Z",
          "iopub.execute_input": "2024-03-18T15:22:04.545675Z",
          "iopub.status.idle": "2024-03-18T15:22:05.489338Z",
          "shell.execute_reply.started": "2024-03-18T15:22:04.545636Z",
          "shell.execute_reply": "2024-03-18T15:22:05.488375Z"
        },
        "trusted": true,
        "id": "UWkv28NON6Nc"
      },
      "execution_count": null,
      "outputs": []
    },
    {
      "cell_type": "code",
      "source": [
        "max_train_score = max(train_scores)\n",
        "train_scores_index = [i for i,v in enumerate(train_scores) if v == max_train_score]\n",
        "print(\"Max Train score {} % and k = {}\".format(max_train_score*100,list(map(lambda x: x+1,train_scores_index))))"
      ],
      "metadata": {
        "execution": {
          "iopub.status.busy": "2024-03-18T15:25:21.5286Z",
          "iopub.execute_input": "2024-03-18T15:25:21.529043Z",
          "iopub.status.idle": "2024-03-18T15:25:21.537144Z",
          "shell.execute_reply.started": "2024-03-18T15:25:21.52901Z",
          "shell.execute_reply": "2024-03-18T15:25:21.535312Z"
        },
        "trusted": true,
        "id": "-3gR1jZmN6Nd"
      },
      "execution_count": null,
      "outputs": []
    },
    {
      "cell_type": "code",
      "source": [
        "max_test_score = max(test_scores)\n",
        "test_scores_index = [i for i,v in enumerate(test_scores) if v == max_test_score]\n",
        "print(\"Max Test score {} % and k = {}\".format(max_test_score*100,list(map(lambda x: x+1,test_scores_index))))"
      ],
      "metadata": {
        "execution": {
          "iopub.status.busy": "2024-03-18T15:26:34.916191Z",
          "iopub.execute_input": "2024-03-18T15:26:34.916767Z",
          "iopub.status.idle": "2024-03-18T15:26:34.927063Z",
          "shell.execute_reply.started": "2024-03-18T15:26:34.916698Z",
          "shell.execute_reply": "2024-03-18T15:26:34.925302Z"
        },
        "trusted": true,
        "id": "BFKMPWTXN6Nd"
      },
      "execution_count": null,
      "outputs": []
    },
    {
      "cell_type": "code",
      "source": [
        "print(len(train_scores), len(test_scores))\n"
      ],
      "metadata": {
        "execution": {
          "iopub.status.busy": "2024-03-18T15:30:54.933963Z",
          "iopub.execute_input": "2024-03-18T15:30:54.934441Z",
          "iopub.status.idle": "2024-03-18T15:30:54.941014Z",
          "shell.execute_reply.started": "2024-03-18T15:30:54.934406Z",
          "shell.execute_reply": "2024-03-18T15:30:54.939821Z"
        },
        "trusted": true,
        "id": "K30wxqkkN6Nd"
      },
      "execution_count": null,
      "outputs": []
    },
    {
      "cell_type": "code",
      "source": [
        "import matplotlib.pyplot as plt\n",
        "import seaborn as sns\n",
        "\n",
        "plt.figure(figsize=(12, 5))\n",
        "ax = sns.lineplot(x=range(1, 15), y=train_scores, marker='*', label='Train Score')\n",
        "ax = sns.lineplot(x=range(1, 15), y=test_scores, marker='o', label='Test Score')\n",
        "plt.show()\n"
      ],
      "metadata": {
        "execution": {
          "iopub.status.busy": "2024-03-18T15:31:38.291964Z",
          "iopub.execute_input": "2024-03-18T15:31:38.292409Z",
          "iopub.status.idle": "2024-03-18T15:31:38.653687Z",
          "shell.execute_reply.started": "2024-03-18T15:31:38.292377Z",
          "shell.execute_reply": "2024-03-18T15:31:38.652526Z"
        },
        "trusted": true,
        "id": "hz6qZ6vjN6Nd"
      },
      "execution_count": null,
      "outputs": []
    },
    {
      "cell_type": "code",
      "source": [
        "knn = KNeighborsClassifier(13)\n",
        "knn.fit(X_train,y_train)\n",
        "knn.score(X_test,y_test)"
      ],
      "metadata": {
        "execution": {
          "iopub.status.busy": "2024-03-18T15:33:17.613192Z",
          "iopub.execute_input": "2024-03-18T15:33:17.613617Z",
          "iopub.status.idle": "2024-03-18T15:33:17.651554Z",
          "shell.execute_reply.started": "2024-03-18T15:33:17.613586Z",
          "shell.execute_reply": "2024-03-18T15:33:17.649836Z"
        },
        "trusted": true,
        "id": "Yba3DYHFN6Ne"
      },
      "execution_count": null,
      "outputs": []
    },
    {
      "cell_type": "code",
      "source": [
        "from sklearn.metrics import confusion_matrix\n",
        "y_pred = knn.predict(X_test)\n",
        "confusion_matrix(y_test, y_pred)"
      ],
      "metadata": {
        "execution": {
          "iopub.status.busy": "2024-03-18T15:34:35.48557Z",
          "iopub.execute_input": "2024-03-18T15:34:35.486137Z",
          "iopub.status.idle": "2024-03-18T15:34:35.519968Z",
          "shell.execute_reply.started": "2024-03-18T15:34:35.4861Z",
          "shell.execute_reply": "2024-03-18T15:34:35.518583Z"
        },
        "trusted": true,
        "id": "WKeTiKk3N6Ne"
      },
      "execution_count": null,
      "outputs": []
    },
    {
      "cell_type": "code",
      "source": [
        "from sklearn.metrics import classification_report\n",
        "print(classification_report(y_test, y_pred))"
      ],
      "metadata": {
        "execution": {
          "iopub.status.busy": "2024-03-18T15:35:30.107079Z",
          "iopub.execute_input": "2024-03-18T15:35:30.107564Z",
          "iopub.status.idle": "2024-03-18T15:35:30.129697Z",
          "shell.execute_reply.started": "2024-03-18T15:35:30.107529Z",
          "shell.execute_reply": "2024-03-18T15:35:30.128126Z"
        },
        "trusted": true,
        "id": "rFb4edi6N6Ne"
      },
      "execution_count": null,
      "outputs": []
    },
    {
      "cell_type": "code",
      "source": [],
      "metadata": {
        "id": "0fnfJxnCN6Nf"
      },
      "execution_count": null,
      "outputs": []
    }
  ]
}